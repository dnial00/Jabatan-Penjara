{
 "cells": [
  {
   "cell_type": "code",
   "execution_count": 1,
   "metadata": {},
   "outputs": [],
   "source": [
    "import pandas as pd\n",
    "import numpy as np\n",
    "from sklearn.model_selection import train_test_split\n",
    "from sklearn.preprocessing import LabelEncoder\n",
    "from sklearn.tree import DecisionTreeClassifier\n",
    "from sklearn.metrics import accuracy_score, classification_report"
   ]
  },
  {
   "cell_type": "code",
   "execution_count": 10,
   "metadata": {},
   "outputs": [],
   "source": [
    "# Load the dataset\n",
    "data = pd.read_excel('Banduan_v2.xlsx')\n",
    "\n",
    "# Preprocess the dataset\n",
    "# Encoding categorical features\n",
    "label_encoder = LabelEncoder()\n",
    "for col in ['jantina', 'negeri', 'bangsa', 'kategori_hukuman', 'banduan_berulang_kali', 'kesalahan', 'penyakit', 'program_pemulihan', 'status']:\n",
    "    data[col] = label_encoder.fit_transform(data[col].astype(str))\n",
    "\n",
    "# Generating synthetic data for 'Gang Affiliation'\n",
    "np.random.seed(0)\n",
    "gang_affiliation_categories = ['SG', 'NG', 'DG', 'G']\n",
    "data['Gang Affiliation'] = np.random.choice(gang_affiliation_categories, size=len(data))\n",
    "data['Gang Affiliation'] = label_encoder.fit_transform(data['Gang Affiliation'])\n",
    "\n",
    "# Generating a synthetic target variable for fight involvement\n",
    "data['Fight Involvement'] = np.random.choice(['No Fight', 'Fight', 'Alliance'], size=len(data))"
   ]
  },
  {
   "cell_type": "code",
   "execution_count": 11,
   "metadata": {},
   "outputs": [],
   "source": [
    "# Selecting features and target\n",
    "features = data[['umur', 'jantina', 'bangsa', 'tempoh_hukuman', 'banduan_berulang_kali', 'kesalahan', 'penyakit', 'program_pemulihan', 'Gang Affiliation']]\n",
    "target = label_encoder.fit_transform(data['Fight Involvement'])\n",
    "\n",
    "# Split the data into training and testing sets\n",
    "X_train, X_test, y_train, y_test = train_test_split(features, target, test_size=0.2, random_state=42)\n",
    "\n",
    "# Train the model on the training set\n",
    "model = DecisionTreeClassifier(random_state=42)\n",
    "model.fit(X_train, y_train)\n",
    "\n",
    "# Predict on the test set\n",
    "y_pred = model.predict(X_test)"
   ]
  },
  {
   "cell_type": "code",
   "execution_count": 12,
   "metadata": {},
   "outputs": [
    {
     "name": "stdout",
     "output_type": "stream",
     "text": [
      "Accuracy: 0.3440740740740741\n",
      "Classification Report:\n",
      "              precision    recall  f1-score   support\n",
      "\n",
      "    Alliance       0.35      0.36      0.35       880\n",
      "       Fight       0.34      0.34      0.34       916\n",
      "    No Fight       0.34      0.33      0.34       904\n",
      "\n",
      "    accuracy                           0.34      2700\n",
      "   macro avg       0.34      0.34      0.34      2700\n",
      "weighted avg       0.34      0.34      0.34      2700\n",
      "\n"
     ]
    }
   ],
   "source": [
    "# Evaluate the model\n",
    "accuracy = accuracy_score(y_test, y_pred)\n",
    "print(f'Accuracy: {accuracy}')\n",
    "print('Classification Report:')\n",
    "print(classification_report(y_test, y_pred, target_names=label_encoder.classes_))"
   ]
  },
  {
   "cell_type": "code",
   "execution_count": 13,
   "metadata": {},
   "outputs": [
    {
     "name": "stdout",
     "output_type": "stream",
     "text": [
      "Predictions for missing values in 'Fight' column added and saved as 'V2_fight_predictions.xlsx'\n"
     ]
    }
   ],
   "source": [
    "# Converting predictions back to labels\n",
    "predicted_labels = label_encoder.inverse_transform(y_pred)\n",
    "\n",
    "# Add predictions back to the test set\n",
    "test_set_with_predictions = X_test.copy()\n",
    "test_set_with_predictions['Fight'] = predicted_labels\n",
    "\n",
    "# Merge the test set predictions back into the original dataset\n",
    "# This will fill in the missing 'Fight' values\n",
    "data.update(test_set_with_predictions)\n",
    "\n",
    "# Saving the updated dataset with predictions for missing values\n",
    "data.to_excel('V2_fight_predictions.xlsx', index=False)\n",
    "\n",
    "print(\"Predictions for missing values in 'Fight' column added and saved as 'V2_fight_predictions.xlsx'\")"
   ]
  },
  {
   "cell_type": "code",
   "execution_count": null,
   "metadata": {},
   "outputs": [],
   "source": []
  }
 ],
 "metadata": {
  "kernelspec": {
   "display_name": "base",
   "language": "python",
   "name": "python3"
  },
  "language_info": {
   "codemirror_mode": {
    "name": "ipython",
    "version": 3
   },
   "file_extension": ".py",
   "mimetype": "text/x-python",
   "name": "python",
   "nbconvert_exporter": "python",
   "pygments_lexer": "ipython3",
   "version": "3.11.4"
  }
 },
 "nbformat": 4,
 "nbformat_minor": 2
}
